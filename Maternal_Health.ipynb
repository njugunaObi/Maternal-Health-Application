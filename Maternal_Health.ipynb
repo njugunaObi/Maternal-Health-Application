{
  "nbformat": 4,
  "nbformat_minor": 0,
  "metadata": {
    "colab": {
      "provenance": [],
      "include_colab_link": true
    },
    "kernelspec": {
      "name": "python3",
      "display_name": "Python 3"
    },
    "language_info": {
      "name": "python"
    }
  },
  "cells": [
    {
      "cell_type": "markdown",
      "metadata": {
        "id": "view-in-github",
        "colab_type": "text"
      },
      "source": [
        "<a href=\"https://colab.research.google.com/github/njugunaObi/Maternal-Health-Application/blob/main/Maternal_Health.ipynb\" target=\"_parent\"><img src=\"https://colab.research.google.com/assets/colab-badge.svg\" alt=\"Open In Colab\"/></a>"
      ]
    },
    {
      "cell_type": "code",
      "source": [
        "pip install africastalking"
      ],
      "metadata": {
        "colab": {
          "base_uri": "https://localhost:8080/"
        },
        "id": "viSmOEaYQykZ",
        "outputId": "18fa2731-9fef-4eb9-fe2e-eb5f7c9e101b"
      },
      "execution_count": null,
      "outputs": [
        {
          "output_type": "stream",
          "name": "stdout",
          "text": [
            "Requirement already satisfied: africastalking in /usr/local/lib/python3.10/dist-packages (1.2.5)\n",
            "Requirement already satisfied: requests>=v2.18.4 in /usr/local/lib/python3.10/dist-packages (from africastalking) (2.31.0)\n",
            "Requirement already satisfied: schema>=0.6.7 in /usr/local/lib/python3.10/dist-packages (from africastalking) (0.7.5)\n",
            "Requirement already satisfied: charset-normalizer<4,>=2 in /usr/local/lib/python3.10/dist-packages (from requests>=v2.18.4->africastalking) (3.2.0)\n",
            "Requirement already satisfied: idna<4,>=2.5 in /usr/local/lib/python3.10/dist-packages (from requests>=v2.18.4->africastalking) (3.4)\n",
            "Requirement already satisfied: urllib3<3,>=1.21.1 in /usr/local/lib/python3.10/dist-packages (from requests>=v2.18.4->africastalking) (2.0.4)\n",
            "Requirement already satisfied: certifi>=2017.4.17 in /usr/local/lib/python3.10/dist-packages (from requests>=v2.18.4->africastalking) (2023.7.22)\n",
            "Requirement already satisfied: contextlib2>=0.5.5 in /usr/local/lib/python3.10/dist-packages (from schema>=0.6.7->africastalking) (21.6.0)\n"
          ]
        }
      ]
    },
    {
      "cell_type": "code",
      "source": [
        "from flask import Flask\n"
      ],
      "metadata": {
        "id": "65_-yHoNQ_Nx"
      },
      "execution_count": null,
      "outputs": []
    },
    {
      "cell_type": "code",
      "source": [
        "from openpyxl import load_workbook\n",
        "#Africa's Talking API credentials\n",
        "AFRICASTALKING_USERNAME = 'oursuperduperapp'\n",
        "AFRICASTALKING_API_KEY = '6dcede7afc40efb68c567bf36fe307937439b9044c3d3e9fa8135c95dc176bf3'\n",
        "\n",
        "# Initialize Africa's Talking SMS\n",
        "# This one also has the sms function\n",
        "def initialize_sms():\n",
        "    try:\n",
        "        africastalking.initialize(username=AFRICASTALKING_USERNAME, api_key=AFRICASTALKING_API_KEY)\n",
        "        return True\n",
        "    except Exception as e:\n",
        "        print(f\"Error initializing Africa's Talking: {e}\")\n",
        "        return False\n",
        "\n",
        "if initialize_sms():\n",
        "    sms = africastalking.SMS\n",
        "else:\n",
        "    sms = None\n",
        "\n",
        "# Replace with your API key from https://ipinfo.io/\n",
        "IPINFO_API_KEY = '4a156323e54c50'\n",
        "\n",
        "def run_command(command):\n",
        "    result = subprocess.run(command, stdout=subprocess.PIPE, text=True, shell=True)\n",
        "    return result.stdout\n",
        "\n",
        "def send_sms(phone_number, message):\n",
        "    try:\n",
        "        response = sms.send(message, [phone_number])\n",
        "        print(response)\n",
        "    except Exception as e:\n",
        "        print(f\"Error sending SMS: {e}\")\n",
        "        from openpyxl import load_workbook\n",
        "\n",
        "\n",
        "        # Load the Excel workbook\n",
        "        workbook = load_workbook(filename=\"/content/africa excel.xlsx\")\n",
        "\n",
        "        # Select the worksheet you want to read from\n",
        "        sheet_name = \"Sheet1\"\n",
        "        worksheet = workbook[sheet_name]\n",
        "\n",
        "        # Define column indices based on column names\n",
        "        column_indices = {\"name\": 1, \"phone_number\": 2}\n",
        "\n",
        "        # Iterate over the rows in the worksheet\n",
        "        for row in worksheet.iter_rows(min_row=2, values_only=True):\n",
        "            name = row[column_indices[\"name\"] - 1]  # Adjust for 0-based index\n",
        "            phone_number = row[column_indices[\"phone_number\"] - 1]  # Adjust for 0-based index\n",
        "\n",
        "            # Process the extracted data (replace this with your own logic)\n",
        "            print(f\"Name: {name}, Phone Number: {phone_number}\")\n",
        "            # Customize your message here\n",
        "            message = f\"Hello {name}, we care about your health and well-being. We encourage you to visit your local clinic for prenatal and nutrition check-ups. These check-ups are essential for ensuring that you and your baby are healthy throughout your pregnancy. Don’t hesitate to seek medical attention if you have any concerns or questions. Your health is our top priority.\"\n",
        "\n",
        "            # Send the SMS message\n",
        "            response = sms.send(message, [phone_number])\n",
        "\n",
        "            # Print the response from Africa's Talking API\n",
        "            print(response)\n",
        "\n",
        "    if __name__ == \"__main__\":\n",
        "          send_sms_via_at()\n",
        "\n"
      ],
      "metadata": {
        "id": "6nReJuHIaRdX"
      },
      "execution_count": null,
      "outputs": []
    },
    {
      "cell_type": "code",
      "source": [],
      "metadata": {
        "id": "_JwPwjG_huhp"
      },
      "execution_count": null,
      "outputs": []
    },
    {
      "cell_type": "code",
      "source": [
        "send_sms(254713592230,'we care about your health and well-being')"
      ],
      "metadata": {
        "colab": {
          "base_uri": "https://localhost:8080/",
          "height": 477
        },
        "id": "df0Hg-7sf-MP",
        "outputId": "c5726114-bef0-4494-c308-f45fa65736d2"
      },
      "execution_count": null,
      "outputs": [
        {
          "output_type": "stream",
          "name": "stdout",
          "text": [
            "Error sending SMS: expected string or bytes-like object\n",
            "Name: Abigail, Phone Number: 254708920190\n"
          ]
        },
        {
          "output_type": "error",
          "ename": "TypeError",
          "evalue": "ignored",
          "traceback": [
            "\u001b[0;31m---------------------------------------------------------------------------\u001b[0m",
            "\u001b[0;31mTypeError\u001b[0m                                 Traceback (most recent call last)",
            "\u001b[0;32m<ipython-input-25-88989367ebe8>\u001b[0m in \u001b[0;36msend_sms\u001b[0;34m(phone_number, message)\u001b[0m\n\u001b[1;32m     29\u001b[0m     \u001b[0;32mtry\u001b[0m\u001b[0;34m:\u001b[0m\u001b[0;34m\u001b[0m\u001b[0;34m\u001b[0m\u001b[0m\n\u001b[0;32m---> 30\u001b[0;31m         \u001b[0mresponse\u001b[0m \u001b[0;34m=\u001b[0m \u001b[0msms\u001b[0m\u001b[0;34m.\u001b[0m\u001b[0msend\u001b[0m\u001b[0;34m(\u001b[0m\u001b[0mmessage\u001b[0m\u001b[0;34m,\u001b[0m \u001b[0;34m[\u001b[0m\u001b[0mphone_number\u001b[0m\u001b[0;34m]\u001b[0m\u001b[0;34m)\u001b[0m\u001b[0;34m\u001b[0m\u001b[0;34m\u001b[0m\u001b[0m\n\u001b[0m\u001b[1;32m     31\u001b[0m         \u001b[0mprint\u001b[0m\u001b[0;34m(\u001b[0m\u001b[0mresponse\u001b[0m\u001b[0;34m)\u001b[0m\u001b[0;34m\u001b[0m\u001b[0;34m\u001b[0m\u001b[0m\n",
            "\u001b[0;32m/usr/local/lib/python3.10/dist-packages/africastalking/SMS.py\u001b[0m in \u001b[0;36msend\u001b[0;34m(self, message, recipients, sender_id, enqueue, callback)\u001b[0m\n\u001b[1;32m     14\u001b[0m         \u001b[0;32mfor\u001b[0m \u001b[0mphone\u001b[0m \u001b[0;32min\u001b[0m \u001b[0mrecipients\u001b[0m\u001b[0;34m:\u001b[0m\u001b[0;34m\u001b[0m\u001b[0;34m\u001b[0m\u001b[0m\n\u001b[0;32m---> 15\u001b[0;31m             \u001b[0;32mif\u001b[0m \u001b[0;32mnot\u001b[0m \u001b[0mvalidate_phone\u001b[0m\u001b[0;34m(\u001b[0m\u001b[0mphone\u001b[0m\u001b[0;34m)\u001b[0m\u001b[0;34m:\u001b[0m\u001b[0;34m\u001b[0m\u001b[0;34m\u001b[0m\u001b[0m\n\u001b[0m\u001b[1;32m     16\u001b[0m                 \u001b[0;32mraise\u001b[0m \u001b[0mValueError\u001b[0m\u001b[0;34m(\u001b[0m\u001b[0;34m\"Invalid phone number: \"\u001b[0m \u001b[0;34m+\u001b[0m \u001b[0mphone\u001b[0m\u001b[0;34m)\u001b[0m\u001b[0;34m\u001b[0m\u001b[0;34m\u001b[0m\u001b[0m\n",
            "\u001b[0;32m/usr/local/lib/python3.10/dist-packages/africastalking/Service.py\u001b[0m in \u001b[0;36mvalidate_phone\u001b[0;34m(phone_str)\u001b[0m\n\u001b[1;32m     18\u001b[0m     \u001b[0;32mtry\u001b[0m\u001b[0;34m:\u001b[0m\u001b[0;34m\u001b[0m\u001b[0;34m\u001b[0m\u001b[0m\n\u001b[0;32m---> 19\u001b[0;31m         \u001b[0;32mreturn\u001b[0m \u001b[0mre\u001b[0m\u001b[0;34m.\u001b[0m\u001b[0mmatch\u001b[0m\u001b[0;34m(\u001b[0m\u001b[0;34m\"^\\+\\d{1,3}\\d{3,}$\"\u001b[0m\u001b[0;34m,\u001b[0m \u001b[0mphone_str\u001b[0m\u001b[0;34m)\u001b[0m\u001b[0;34m\u001b[0m\u001b[0;34m\u001b[0m\u001b[0m\n\u001b[0m\u001b[1;32m     20\u001b[0m     \u001b[0;32mexcept\u001b[0m \u001b[0mValueError\u001b[0m\u001b[0;34m:\u001b[0m\u001b[0;34m\u001b[0m\u001b[0;34m\u001b[0m\u001b[0m\n",
            "\u001b[0;32m/usr/lib/python3.10/re.py\u001b[0m in \u001b[0;36mmatch\u001b[0;34m(pattern, string, flags)\u001b[0m\n\u001b[1;32m    189\u001b[0m     a Match object, or None if no match was found.\"\"\"\n\u001b[0;32m--> 190\u001b[0;31m     \u001b[0;32mreturn\u001b[0m \u001b[0m_compile\u001b[0m\u001b[0;34m(\u001b[0m\u001b[0mpattern\u001b[0m\u001b[0;34m,\u001b[0m \u001b[0mflags\u001b[0m\u001b[0;34m)\u001b[0m\u001b[0;34m.\u001b[0m\u001b[0mmatch\u001b[0m\u001b[0;34m(\u001b[0m\u001b[0mstring\u001b[0m\u001b[0;34m)\u001b[0m\u001b[0;34m\u001b[0m\u001b[0;34m\u001b[0m\u001b[0m\n\u001b[0m\u001b[1;32m    191\u001b[0m \u001b[0;34m\u001b[0m\u001b[0m\n",
            "\u001b[0;31mTypeError\u001b[0m: expected string or bytes-like object",
            "\nDuring handling of the above exception, another exception occurred:\n",
            "\u001b[0;31mTypeError\u001b[0m                                 Traceback (most recent call last)",
            "\u001b[0;32m<ipython-input-26-e9d502e170e3>\u001b[0m in \u001b[0;36m<cell line: 1>\u001b[0;34m()\u001b[0m\n\u001b[0;32m----> 1\u001b[0;31m \u001b[0msend_sms\u001b[0m\u001b[0;34m(\u001b[0m\u001b[0;36m254713592230\u001b[0m\u001b[0;34m,\u001b[0m\u001b[0;34m'we care about your health and well-being'\u001b[0m\u001b[0;34m)\u001b[0m\u001b[0;34m\u001b[0m\u001b[0;34m\u001b[0m\u001b[0m\n\u001b[0m",
            "\u001b[0;32m<ipython-input-25-88989367ebe8>\u001b[0m in \u001b[0;36msend_sms\u001b[0;34m(phone_number, message)\u001b[0m\n\u001b[1;32m     56\u001b[0m \u001b[0;34m\u001b[0m\u001b[0m\n\u001b[1;32m     57\u001b[0m             \u001b[0;31m# Send the SMS message\u001b[0m\u001b[0;34m\u001b[0m\u001b[0;34m\u001b[0m\u001b[0m\n\u001b[0;32m---> 58\u001b[0;31m             \u001b[0mresponse\u001b[0m \u001b[0;34m=\u001b[0m \u001b[0msms\u001b[0m\u001b[0;34m.\u001b[0m\u001b[0msend\u001b[0m\u001b[0;34m(\u001b[0m\u001b[0mmessage\u001b[0m\u001b[0;34m,\u001b[0m \u001b[0;34m[\u001b[0m\u001b[0mphone_number\u001b[0m\u001b[0;34m]\u001b[0m\u001b[0;34m)\u001b[0m\u001b[0;34m\u001b[0m\u001b[0;34m\u001b[0m\u001b[0m\n\u001b[0m\u001b[1;32m     59\u001b[0m \u001b[0;34m\u001b[0m\u001b[0m\n\u001b[1;32m     60\u001b[0m             \u001b[0;31m# Print the response from Africa's Talking API\u001b[0m\u001b[0;34m\u001b[0m\u001b[0;34m\u001b[0m\u001b[0m\n",
            "\u001b[0;32m/usr/local/lib/python3.10/dist-packages/africastalking/SMS.py\u001b[0m in \u001b[0;36msend\u001b[0;34m(self, message, recipients, sender_id, enqueue, callback)\u001b[0m\n\u001b[1;32m     13\u001b[0m \u001b[0;34m\u001b[0m\u001b[0m\n\u001b[1;32m     14\u001b[0m         \u001b[0;32mfor\u001b[0m \u001b[0mphone\u001b[0m \u001b[0;32min\u001b[0m \u001b[0mrecipients\u001b[0m\u001b[0;34m:\u001b[0m\u001b[0;34m\u001b[0m\u001b[0;34m\u001b[0m\u001b[0m\n\u001b[0;32m---> 15\u001b[0;31m             \u001b[0;32mif\u001b[0m \u001b[0;32mnot\u001b[0m \u001b[0mvalidate_phone\u001b[0m\u001b[0;34m(\u001b[0m\u001b[0mphone\u001b[0m\u001b[0;34m)\u001b[0m\u001b[0;34m:\u001b[0m\u001b[0;34m\u001b[0m\u001b[0;34m\u001b[0m\u001b[0m\n\u001b[0m\u001b[1;32m     16\u001b[0m                 \u001b[0;32mraise\u001b[0m \u001b[0mValueError\u001b[0m\u001b[0;34m(\u001b[0m\u001b[0;34m\"Invalid phone number: \"\u001b[0m \u001b[0;34m+\u001b[0m \u001b[0mphone\u001b[0m\u001b[0;34m)\u001b[0m\u001b[0;34m\u001b[0m\u001b[0;34m\u001b[0m\u001b[0m\n\u001b[1;32m     17\u001b[0m \u001b[0;34m\u001b[0m\u001b[0m\n",
            "\u001b[0;32m/usr/local/lib/python3.10/dist-packages/africastalking/Service.py\u001b[0m in \u001b[0;36mvalidate_phone\u001b[0;34m(phone_str)\u001b[0m\n\u001b[1;32m     17\u001b[0m \u001b[0;32mdef\u001b[0m \u001b[0mvalidate_phone\u001b[0m\u001b[0;34m(\u001b[0m\u001b[0mphone_str\u001b[0m\u001b[0;34m)\u001b[0m\u001b[0;34m:\u001b[0m\u001b[0;34m\u001b[0m\u001b[0;34m\u001b[0m\u001b[0m\n\u001b[1;32m     18\u001b[0m     \u001b[0;32mtry\u001b[0m\u001b[0;34m:\u001b[0m\u001b[0;34m\u001b[0m\u001b[0;34m\u001b[0m\u001b[0m\n\u001b[0;32m---> 19\u001b[0;31m         \u001b[0;32mreturn\u001b[0m \u001b[0mre\u001b[0m\u001b[0;34m.\u001b[0m\u001b[0mmatch\u001b[0m\u001b[0;34m(\u001b[0m\u001b[0;34m\"^\\+\\d{1,3}\\d{3,}$\"\u001b[0m\u001b[0;34m,\u001b[0m \u001b[0mphone_str\u001b[0m\u001b[0;34m)\u001b[0m\u001b[0;34m\u001b[0m\u001b[0;34m\u001b[0m\u001b[0m\n\u001b[0m\u001b[1;32m     20\u001b[0m     \u001b[0;32mexcept\u001b[0m \u001b[0mValueError\u001b[0m\u001b[0;34m:\u001b[0m\u001b[0;34m\u001b[0m\u001b[0;34m\u001b[0m\u001b[0m\n\u001b[1;32m     21\u001b[0m         \u001b[0;32mreturn\u001b[0m \u001b[0;32mFalse\u001b[0m\u001b[0;34m\u001b[0m\u001b[0;34m\u001b[0m\u001b[0m\n",
            "\u001b[0;32m/usr/lib/python3.10/re.py\u001b[0m in \u001b[0;36mmatch\u001b[0;34m(pattern, string, flags)\u001b[0m\n\u001b[1;32m    188\u001b[0m     \"\"\"Try to apply the pattern at the start of the string, returning\n\u001b[1;32m    189\u001b[0m     a Match object, or None if no match was found.\"\"\"\n\u001b[0;32m--> 190\u001b[0;31m     \u001b[0;32mreturn\u001b[0m \u001b[0m_compile\u001b[0m\u001b[0;34m(\u001b[0m\u001b[0mpattern\u001b[0m\u001b[0;34m,\u001b[0m \u001b[0mflags\u001b[0m\u001b[0;34m)\u001b[0m\u001b[0;34m.\u001b[0m\u001b[0mmatch\u001b[0m\u001b[0;34m(\u001b[0m\u001b[0mstring\u001b[0m\u001b[0;34m)\u001b[0m\u001b[0;34m\u001b[0m\u001b[0;34m\u001b[0m\u001b[0m\n\u001b[0m\u001b[1;32m    191\u001b[0m \u001b[0;34m\u001b[0m\u001b[0m\n\u001b[1;32m    192\u001b[0m \u001b[0;32mdef\u001b[0m \u001b[0mfullmatch\u001b[0m\u001b[0;34m(\u001b[0m\u001b[0mpattern\u001b[0m\u001b[0;34m,\u001b[0m \u001b[0mstring\u001b[0m\u001b[0;34m,\u001b[0m \u001b[0mflags\u001b[0m\u001b[0;34m=\u001b[0m\u001b[0;36m0\u001b[0m\u001b[0;34m)\u001b[0m\u001b[0;34m:\u001b[0m\u001b[0;34m\u001b[0m\u001b[0;34m\u001b[0m\u001b[0m\n",
            "\u001b[0;31mTypeError\u001b[0m: expected string or bytes-like object"
          ]
        }
      ]
    },
    {
      "cell_type": "code",
      "source": [],
      "metadata": {
        "id": "rjN_IcrMi6zR"
      },
      "execution_count": null,
      "outputs": []
    },
    {
      "cell_type": "code",
      "source": [],
      "metadata": {
        "id": "UBNMRai-hG1W"
      },
      "execution_count": null,
      "outputs": []
    },
    {
      "cell_type": "code",
      "source": [
        "from openpyxl import load_workbook\n",
        "#Africa's Talking API credentials\n",
        "AFRICASTALKING_USERNAME = 'oursuperduperapp'\n",
        "AFRICASTALKING_API_KEY = '6dcede7afc40efb68c567bf36fe307937439b9044c3d3e9fa8135c95dc176bf3'\n",
        "\n",
        "# Initialize Africa's Talking SMS\n",
        "# This one also has the sms function\n",
        "def initialize_sms():\n",
        "    try:\n",
        "        africastalking.initialize(username=AFRICASTALKING_USERNAME, api_key=AFRICASTALKING_API_KEY)\n",
        "        return True\n",
        "    except Exception as e:\n",
        "        print(f\"Error initializing Africa's Talking: {e}\")\n",
        "        return False\n",
        "\n",
        "if initialize_sms():\n",
        "    sms = africastalking.SMS\n",
        "else:\n",
        "    sms = None\n",
        "\n",
        "# Replace with your API key from https://ipinfo.io/\n",
        "IPINFO_API_KEY = '4a156323e54c50'\n",
        "\n",
        "def run_command(command):\n",
        "    result = subprocess.run(command, stdout=subprocess.PIPE, text=True, shell=True)\n",
        "    return result.stdout\n",
        "\n",
        "def send_sms(phone_number, message):\n",
        "    try:\n",
        "        response = sms.send(message, [phone_number])\n",
        "        print(response)\n",
        "    except Exception as e:\n",
        "        print(f\"Error sending SMS: {e}\")\n",
        "        from openpyxl import load_workbook\n",
        "\n",
        "\n",
        "        # Load the Excel workbook\n",
        "        workbook = load_workbook(filename=\"/content/africa excel.xlsx\")\n",
        "\n",
        "        # Select the worksheet you want to read from\n",
        "        sheet_name = \"Sheet1\"\n",
        "        worksheet = workbook[sheet_name]\n",
        "\n",
        "        # Define column indices based on column names\n",
        "        column_indices = {\"name\": 1, \"phone_number\": 2}\n",
        "\n",
        "        # Iterate over the rows in the worksheet\n",
        "        for row in worksheet.iter_rows(min_row=2, values_only=True):\n",
        "            name = row[column_indices[\"name\"] - 1]  # Adjust for 0-based index\n",
        "            phone_number = row[column_indices[\"phone_number\"] - 1]  # Adjust for 0-based index\n",
        "\n",
        "\n",
        "            # message\n",
        "            message = f\"Hello {name}, we care about your health and well-being. We encourage you to visit your local clinic for prenatal and nutrition check-ups. These check-ups are essential for ensuring that you and your baby are healthy throughout your pregnancy. Don’t hesitate to seek medical attention if you have any concerns or questions. Your health is our top priority.\"\n",
        "\n",
        "            # Send the SMS message\n",
        "            response = sms.send(message, [phone_number])\n",
        "\n",
        "            # Print the response from Africa's Talking API\n",
        "            print(response)\n",
        "\n",
        "    if __name__ == \"__main__\":\n",
        "          send_sms_via_at()\n",
        "\n"
      ],
      "metadata": {
        "id": "xgqAtQw1jPv6"
      },
      "execution_count": null,
      "outputs": []
    },
    {
      "cell_type": "code",
      "source": [
        "from openpyxl import load_workbook\n",
        "import africastalking\n",
        "\n",
        "# Africa's Talking API credentials\n",
        "AFRICASTALKING_USERNAME = 'oursuperduperapp'\n",
        "AFRICASTALKING_API_KEY = '6dcede7afc40efb68c567bf36fe307937439b9044c3d3e9fa8135c95dc176bf3'\n",
        "\n",
        "# Initialize Africa's Talking SMS\n",
        "def initialize_sms():\n",
        "    try:\n",
        "        africastalking.initialize(username=AFRICASTALKING_USERNAME, api_key=AFRICASTALKING_API_KEY)\n",
        "        return True\n",
        "    except Exception as e:\n",
        "        print(f\"Error initializing Africa's Talking: {e}\")\n",
        "        return False\n",
        "\n",
        "def send_sms(phone_number, message):\n",
        "    try:\n",
        "        response = sms.send(message, [phone_number])\n",
        "        print(response)\n",
        "    except Exception as e:\n",
        "        print(f\"Error sending SMS: {e}\")\n",
        "\n",
        "# def main():\n",
        "#     if initialize_sms():\n",
        "#         sms = africastalking.SMS\n",
        "#     else:\n",
        "#         sms = None\n",
        "\n",
        "#     if sms:\n",
        "#         # Load the Excel workbook\n",
        "#         workbook = load_workbook(filename=\"/content/africa excel (1).xlsx\")\n",
        "#         sheet_name = \"Sheet1\"\n",
        "#         worksheet = workbook[sheet_name]\n",
        "\n",
        "#         column_indices = {\"name\": 1, \"phone_number\": 2}\n",
        "\n",
        "#         for row in worksheet.iter_rows(min_row=2, values_only=True):\n",
        "#             name = row[column_indices[\"name\"] - 1]\n",
        "#             phone_number = row[column_indices[\"phone_number\"] - 1]\n",
        "\n",
        "#             message = f\"Hello {name}, we care about your health and well-being. We encourage you to visit your local clinic for prenatal and nutrition check-ups. These check-ups are essential for ensuring that you and your baby are healthy throughout your pregnancy. Don’t hesitate to seek medical attention if you have any concerns or questions. Your health is our top priority.\"\n",
        "\n",
        "#             send_sms(phone_number, message)\n",
        "#     else:\n",
        "#         print(\"SMS initialization failed.\")\n",
        "\n",
        "# if __name__ == \"__main__\":\n",
        "#     main()\n"
      ],
      "metadata": {
        "id": "B6Ir2grtl_b7"
      },
      "execution_count": null,
      "outputs": []
    },
    {
      "cell_type": "code",
      "source": [
        "import pandas as pd\n",
        "file_path = '/content/africa excel.xlsx'\n",
        "sheet_name = \"Sheet1\"\n",
        "column_name  = 'phone_number'\n",
        "data = pd.read_excel(file_path,sheet_name)\n",
        "column_list = data[column_name].tolist()\n",
        "\n",
        "for num in column_list:\n",
        "  message = f\"Hello {name}, we care about your health and well-being. We encourage you to visit your local clinic for prenatal and nutrition check-ups. These check-ups are essential for ensuring that you and your baby are healthy throughout your pregnancy. Don’t hesitate to seek medical attention if you have any concerns or questions. Your health is our top priority.\"\n",
        "\n"
      ],
      "metadata": {
        "colab": {
          "base_uri": "https://localhost:8080/"
        },
        "id": "lZsq-q34nXLi",
        "outputId": "d0d06db8-71eb-4adc-8306-7127f017b537"
      },
      "execution_count": null,
      "outputs": [
        {
          "output_type": "stream",
          "name": "stdout",
          "text": [
            "[254708920190, 254701999433, 254724098148, 254713592230, 254724337299]\n"
          ]
        }
      ]
    },
    {
      "cell_type": "code",
      "source": [
        "import africastalking\n",
        "import openpyxl\n",
        "\n",
        "# Set your app credentials\n",
        "username = \"oursuperduperapp\"\n",
        "api_key = \"6dcede7afc40efb68c567bf36fe307937439b9044c3d3e9fa8135c95dc176bf3\"\n",
        "\n",
        "# Initialize the SDK\n",
        "africastalking.initialize(username, api_key)\n",
        "\n",
        "# Get the SMS service\n",
        "sms = africastalking.SMS\n",
        "\n",
        "# Load the Excel sheet\n",
        "workbook = openpyxl.load_workbook(\"/content/africa excel.xlsx\")\n",
        "sheet = workbook.activeo\n",
        "\n",
        "# Iterate over rows and send SMS to each number\n",
        "for row in sheet.iter_rows(min_row=2, values_only=True):\n",
        "    name, phone_number = row\n",
        "    message = \"Hello {}, this is a test message from Bing.\".format(name)\n",
        "    try:\n",
        "        response = sms.send(message, [phone_number])\n",
        "        print(\"Message sent to\", phone_number)\n",
        "    except Exception as e:\n",
        "        print(\"Error sending message to\", phone_number, \":\", str(e))\n"
      ],
      "metadata": {
        "id": "ycp06bMtjxjl"
      },
      "execution_count": null,
      "outputs": []
    },
    {
      "cell_type": "code",
      "source": [
        "send_sms(['+254713592230'],'message')"
      ],
      "metadata": {
        "colab": {
          "base_uri": "https://localhost:8080/"
        },
        "id": "_pWCEZptjwhm",
        "outputId": "de6339bb-ea4b-4ef1-fde1-859db1e47289"
      },
      "execution_count": null,
      "outputs": [
        {
          "output_type": "stream",
          "name": "stdout",
          "text": [
            "Error sending SMS: expected string or bytes-like object\n"
          ]
        }
      ]
    },
    {
      "cell_type": "code",
      "source": [
        "\n",
        "\n",
        "def main():\n",
        "    if initialize_sms():\n",
        "        sms = africastalking.SMS\n",
        "    else:\n",
        "        sms = None\n",
        "\n",
        "    if sms:\n",
        "        workbook = load_workbook(filename=\"/content/africa excel.xlsx\")\n",
        "        sheet_name = \"Sheet1\"\n",
        "        worksheet = workbook[sheet_name]\n",
        "\n",
        "        column_indices = {\"name\": 1, \"phone_number\": 2}\n",
        "\n",
        "        for row in worksheet.iter_rows(min_row=2, values_only=True):\n",
        "            name = row[column_indices[\"name\"] - 1]\n",
        "            phone_number = row[column_indices[\"phone_number\"] - 1]\n",
        "\n",
        "            print(f\"Name: {name}, Phone Number: {phone_number}\")\n",
        "\n",
        "            if isinstance(phone_number, str):\n",
        "                message = f\"Hello {name}, ... Your health is our top priority.\"\n",
        "                send_sms(phone_number, message)\n",
        "            else:\n",
        "                print(f\"Invalid phone number for {name}: {phone_number}\")\n",
        "    else:\n",
        "        print(\"SMS initialization failed.\")\n",
        "\n",
        "if __name__ == \"__main__\":\n",
        "    main()\n"
      ],
      "metadata": {
        "colab": {
          "base_uri": "https://localhost:8080/"
        },
        "id": "fVlxo28Iq989",
        "outputId": "6d14f6ab-37e9-4ff3-ce5f-4fe2aff2b60f"
      },
      "execution_count": null,
      "outputs": [
        {
          "output_type": "stream",
          "name": "stdout",
          "text": [
            "Name: Abigail, Phone Number: 254708920190\n",
            "Invalid phone number for Abigail: 254708920190\n",
            "Name: Alexandra, Phone Number: 254701999433\n",
            "Invalid phone number for Alexandra: 254701999433\n",
            "Name: Daisy, Phone Number: 254724098148\n",
            "Invalid phone number for Daisy: 254724098148\n",
            "Name: Evans, Phone Number: 254713592230\n",
            "Invalid phone number for Evans: 254713592230\n",
            "Name: Mitchelle, Phone Number: 254724337299\n",
            "Invalid phone number for Mitchelle: 254724337299\n"
          ]
        }
      ]
    },
    {
      "cell_type": "code",
      "source": [],
      "metadata": {
        "id": "PXWlVLCrxadd"
      },
      "execution_count": null,
      "outputs": []
    },
    {
      "cell_type": "code",
      "source": [
        "import africastalking\n",
        "\n",
        "# Set your app credentials\n",
        "username = \"oursuperduperapp\"\n",
        "api_key = \"6dcede7afc40efb68c567bf36fe307937439b9044c3d3e9fa8135c95dc176bf3\"\n",
        "\n",
        "# Initialize the SDK\n",
        "africastalking.initialize(username, api_key)\n",
        "\n",
        "# Get the SMS service\n",
        "sms = africastalking.SMS\n",
        "\n",
        "# Define the phone numbers\n",
        "\n",
        "phone_numbers = [\"+254708920190\", \"+254701999433\", \"+254724098148\", \"+254713592230\", \"+254724337299\"]\n",
        "\n",
        "# Iterate over phone numbers and send SMS to each number\n",
        "for phone_number in phone_numbers:\n",
        "    message = \"we care about your health and well-being. We encourage you to visit your local clinic for prenatal and nutrition check-ups. These check-ups are essential for ensuring that you and your baby are healthy throughout your pregnancy. Don’t hesitate to seek medical attention if you have any concerns or questions. Your health is our top priority.\"\n",
        "\n",
        "    try:\n",
        "        response = sms.send(message, [phone_number])\n",
        "        print(\"Message sent to\", phone_number)\n",
        "    except Exception as e:\n",
        "        print(\"Error sending message to\", phone_number, \":\", str(e))\n"
      ],
      "metadata": {
        "id": "OjSydIIPuy2A",
        "colab": {
          "base_uri": "https://localhost:8080/"
        },
        "outputId": "beccd7c2-25ed-46f3-ade6-32aee2e2833e"
      },
      "execution_count": null,
      "outputs": [
        {
          "output_type": "stream",
          "name": "stdout",
          "text": [
            "Message sent to +254708920190\n",
            "Message sent to +254701999433\n",
            "Message sent to +254724098148\n",
            "Message sent to +254713592230\n",
            "Message sent to +254724337299\n"
          ]
        }
      ]
    },
    {
      "cell_type": "code",
      "source": [
        "#prompt for a single number\n",
        "import africastalking\n",
        "\n",
        "# Set your app credentials\n",
        "username = \"oursuperduperapp\"\n",
        "api_key = \"6dcede7afc40efb68c567bf36fe307937439b9044c3d3e9fa8135c95dc176bf3\"\n",
        "\n",
        "# Initialize the SDK\n",
        "africastalking.initialize(username, api_key)\n",
        "\n",
        "# Get the SMS service\n",
        "sms = africastalking.SMS\n",
        "\n",
        "# Define the phone numbers\n",
        "phone_numbers = [\"+254708920190\", \"+254701999433\", \"+254713592230\", \"+254724337299\"]\n",
        "\n",
        "# Prompt the user for a phone number\n",
        "user_phone_number = input(\"Enter the phone number (e.g., +254701234567): \")\n",
        "\n",
        "# Validate the input format (e.g., +254701234567)\n",
        "if user_phone_number.startswith(\"+\") and user_phone_number[1:].isdigit():\n",
        "    phone_numbers.append(user_phone_number)\n",
        "    print(\"Phone number added to the list:\", user_phone_number)\n",
        "else:\n",
        "    print(\"Invalid phone number format. The phone number was not added to the list.\")\n",
        "\n",
        "# Iterate over phone numbers and send SMS to each number\n",
        "for phone_number in phone_numbers:---------96666666666666669-\n",
        "    message = \"\"\"\n",
        "Hello,\n",
        "\n",
        "Reminder: Prenatal and nutrition check-ups are crucial for your well-being and your baby's health. Don't forget to schedule and attend these appointments. Your health is our priority.\n",
        "\n",
        "Stay well!\n",
        "\"\"\"\n",
        "\n",
        "    try:\n",
        "        response = sms.send(message, [phone_number])\n",
        "        print(\"Message sent to\", phone_number)\n",
        "    except Exception as e:\n",
        "        print(\"Error sending message to\", phone_number, \":\", str(e))\n"
      ],
      "metadata": {
        "colab": {
          "base_uri": "https://localhost:8080/"
        },
        "id": "avQGQrg_BAZQ",
        "outputId": "2ed8c273-51fe-455e-e7ab-e4ad5749b9b1"
      },
      "execution_count": null,
      "outputs": [
        {
          "output_type": "stream",
          "name": "stdout",
          "text": [
            "Enter the phone number (e.g., +254701234567): +254794367355\n",
            "Phone number added to the list: +254794367355\n",
            "Message sent to +254708920190\n",
            "Message sent to +254701999433\n",
            "Message sent to +254713592230\n",
            "Message sent to +254724337299\n",
            "Message sent to +254794367355\n"
          ]
        }
      ]
    },
    {
      "cell_type": "code",
      "source": [
        "# prompt two numbers\n",
        "import africastalking\n",
        "\n",
        "# Set your app credentials\n",
        "username = \"oursuperduperapp\"\n",
        "api_key = \"6dcede7afc40efb68c567bf36fe307937439b9044c3d3e9fa8135c95dc176bf3\"\n",
        "\n",
        "# Initialize the SDK\n",
        "africastalking.initialize(username, api_key)\n",
        "\n",
        "# Get the SMS service\n",
        "sms = africastalking.SMS\n",
        "\n",
        "# Define the message\n",
        "message = \"\"\"\n",
        "Hello,\n",
        "\n",
        "Reminder: Prenatal and nutrition check-ups are crucial for your well-being and your baby's health. Don't forget to schedule and attend these appointments. Your health is our priority.\n",
        "\n",
        "Stay well!\n",
        "\"\"\"\n",
        "\n",
        "# Prompt for the first phone number\n",
        "phone_number1 = input(\"Enter the first phone number (e.g., +254701234567): \")\n",
        "if not phone_number1.startswith(\"+\") or not phone_number1[1:].isdigit():\n",
        "    print(\"Invalid phone number format.\")\n",
        "    exit()\n",
        "\n",
        "# Prompt for the second phone number\n",
        "phone_number2 = input(\"Enter the second phone number (e.g., +254701234567): \")\n",
        "if not phone_number2.startswith(\"+\") or not phone_number2[1:].isdigit():\n",
        "    print(\"Invalid phone number format.\")\n",
        "    exit()\n",
        "\n",
        "# List of phone numbers\n",
        "phone_numbers = [phone_number1, phone_number2]\n",
        "\n",
        "# Iterate over phone numbers and send SMS to each number\n",
        "for phone_number in phone_numbers:\n",
        "    try:\n",
        "        response = sms.send(message, [phone_number])\n",
        "        print(\"Message sent to\", phone_number)\n",
        "    except Exception as e:\n",
        "        print(\"Error sending message to\", phone_number, \":\", str(e))\n"
      ],
      "metadata": {
        "id": "eg_q5GSRA9u7"
      },
      "execution_count": null,
      "outputs": []
    }
  ]
}
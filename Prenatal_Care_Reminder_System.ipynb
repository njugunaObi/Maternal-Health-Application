{
  "nbformat": 4,
  "nbformat_minor": 0,
  "metadata": {
    "colab": {
      "provenance": [],
      "include_colab_link": true
    },
    "kernelspec": {
      "name": "python3",
      "display_name": "Python 3"
    },
    "language_info": {
      "name": "python"
    }
  },
  "cells": [
    {
      "cell_type": "markdown",
      "metadata": {
        "id": "view-in-github",
        "colab_type": "text"
      },
      "source": [
        "<a href=\"https://colab.research.google.com/github/njugunaObi/Maternal-Health-Application/blob/main/Prenatal_Care_Reminder_System.ipynb\" target=\"_parent\"><img src=\"https://colab.research.google.com/assets/colab-badge.svg\" alt=\"Open In Colab\"/></a>"
      ]
    },
    {
      "cell_type": "markdown",
      "source": [
        "# Women In Tech Hackathon: Maternal Health"
      ],
      "metadata": {
        "id": "h5P-BK-570sJ"
      }
    },
    {
      "cell_type": "markdown",
      "source": [
        "\n",
        "**Project Overview:**\n",
        "\n",
        "The Prenatal Care Reminder System is a technology-driven initiative designed to provide crucial prenatal care reminders and information to pregnant women. By using this system, expectant mothers will receive timely and personalized text messages with essential guidance and reminders related to their pregnancy journey. This project aims to improve maternal and infant health outcomes by ensuring that pregnant women stay informed and on track with their prenatal care.\n",
        "\n"
      ],
      "metadata": {
        "id": "a8cbY2Ds9qkP"
      }
    },
    {
      "cell_type": "markdown",
      "source": [
        "**Features and Functionality:**\n",
        "\n",
        "1. **User Registration:**\n",
        "   - Pregnant women can register themselves in the system by providing their contact information, expected due date, and other relevant details.\n",
        "\n",
        "2. **Personalized Reminders:**\n",
        "   - Once registered, the system generates personalized text message reminders for prenatal care appointments, screenings, and vaccinations based on the woman's due date and local healthcare guidelines.\n",
        "\n",
        "3. **Educational Content:**\n",
        "   - The system sends informative messages that cover various aspects of pregnancy, including nutrition, exercise, prenatal classes, and emotional well-being.\n",
        "\n",
        "4. **Healthcare Provider Integration:**\n",
        "   - With the user's consent, the system can integrate with healthcare providers to receive appointment schedules and test results, ensuring that reminders are timely and accurate.\n",
        "\n",
        "5. **User Engagement:**\n",
        "   - To keep users engaged and motivated, the system can offer incentives or rewards for attending appointments and following recommended guidelines.\n",
        "\n"
      ],
      "metadata": {
        "id": "oy_4ctfG-hcW"
      }
    },
    {
      "cell_type": "markdown",
      "source": [
        "#**Benefits:**\n"
      ],
      "metadata": {
        "id": "B4q0MWkmAm1I"
      }
    },
    {
      "cell_type": "markdown",
      "source": [
        "- **Improved Maternal Health:** By ensuring that pregnant women receive timely care and guidance, the project aims to reduce complications during pregnancy and childbirth.\n",
        "\n",
        "- **Enhanced User Engagement:** Personalized reminders and educational content can encourage expectant mothers to actively participate in their prenatal care.\n",
        "\n",
        "- **Efficient Healthcare Delivery:** Integration with healthcare providers streamlines appointment scheduling and test result communication.\n",
        "\n",
        "- **Reduced Maternal Mortality:** By promoting prenatal care, the project contributes to reducing maternal mortality rates and improving the overall well-being of both mother and child.\n"
      ],
      "metadata": {
        "id": "t1E6u9bNBI5_"
      }
    },
    {
      "cell_type": "code",
      "source": [
        "pip install africastalking"
      ],
      "metadata": {
        "colab": {
          "base_uri": "https://localhost:8080/"
        },
        "id": "viSmOEaYQykZ",
        "outputId": "18fa2731-9fef-4eb9-fe2e-eb5f7c9e101b"
      },
      "execution_count": null,
      "outputs": [
        {
          "output_type": "stream",
          "name": "stdout",
          "text": [
            "Requirement already satisfied: africastalking in /usr/local/lib/python3.10/dist-packages (1.2.5)\n",
            "Requirement already satisfied: requests>=v2.18.4 in /usr/local/lib/python3.10/dist-packages (from africastalking) (2.31.0)\n",
            "Requirement already satisfied: schema>=0.6.7 in /usr/local/lib/python3.10/dist-packages (from africastalking) (0.7.5)\n",
            "Requirement already satisfied: charset-normalizer<4,>=2 in /usr/local/lib/python3.10/dist-packages (from requests>=v2.18.4->africastalking) (3.2.0)\n",
            "Requirement already satisfied: idna<4,>=2.5 in /usr/local/lib/python3.10/dist-packages (from requests>=v2.18.4->africastalking) (3.4)\n",
            "Requirement already satisfied: urllib3<3,>=1.21.1 in /usr/local/lib/python3.10/dist-packages (from requests>=v2.18.4->africastalking) (2.0.4)\n",
            "Requirement already satisfied: certifi>=2017.4.17 in /usr/local/lib/python3.10/dist-packages (from requests>=v2.18.4->africastalking) (2023.7.22)\n",
            "Requirement already satisfied: contextlib2>=0.5.5 in /usr/local/lib/python3.10/dist-packages (from schema>=0.6.7->africastalking) (21.6.0)\n"
          ]
        }
      ]
    },
    {
      "cell_type": "code",
      "source": [
        "from flask import Flask\n"
      ],
      "metadata": {
        "id": "65_-yHoNQ_Nx"
      },
      "execution_count": null,
      "outputs": []
    },
    {
      "cell_type": "markdown",
      "source": [
        "The code below prompts the user to input phone number and sends the sms to the number."
      ],
      "metadata": {
        "id": "kT-j3FdZBkZI"
      }
    },
    {
      "cell_type": "code",
      "source": [
        "#prompt for a single number\n",
        "import africastalking\n",
        "\n",
        "# Set your app credentials\n",
        "username = \"oursuperduperapp\"\n",
        "api_key = \"6dcede7afc40efb68c567bf36fe307937439b9044c3d3e9fa8135c95dc176bf3\"\n",
        "\n",
        "# Initialize the SDK\n",
        "africastalking.initialize(username, api_key)\n",
        "\n",
        "# Get the SMS service\n",
        "sms = africastalking.SMS\n",
        "\n",
        "# Define the phone numbers\n",
        "phone_numbers = [\"+254708920190\", \"+254701999433\", \"+254713592230\", \"+254724337299\"]\n",
        "\n",
        "# Prompt the user for a phone number\n",
        "user_phone_number = input(\"Enter the phone number (e.g., +254701234567): \")\n",
        "\n",
        "# Validate the input format (e.g., +254701234567)\n",
        "if user_phone_number.startswith(\"+\") and user_phone_number[1:].isdigit():\n",
        "    phone_numbers.append(user_phone_number)\n",
        "    print(\"Phone number added to the list:\", user_phone_number)\n",
        "else:\n",
        "    print(\"Invalid phone number format. The phone number was not added to the list.\")\n",
        "\n",
        "# Iterate over phone numbers and send SMS to each number\n",
        "for phone_number in phone_numbers:\n",
        "    message = \"\"\"\n",
        "Hello,\n",
        "\n",
        "Reminder:\n",
        "Prenatal and nutrition check-ups are crucial for your well-being and your baby's health. Don't forget to schedule and attend these appointments. Your health is our priority. For any concerns or questions, don't hesitate to reach out.\n",
        "file:///C:/Users/USER/Desktop/Reminder/Reminder%20website%20deighn/index.html\n",
        "Stay well!\n",
        "\"\"\"\n",
        "\n",
        "    try:\n",
        "        response = sms.send(message, [phone_number])\n",
        "        print(\"Message sent to\", phone_number)\n",
        "    except Exception as e:\n",
        "        print(\"Error sending message to\", phone_number, \":\", str(e))\n"
      ],
      "metadata": {
        "colab": {
          "base_uri": "https://localhost:8080/"
        },
        "id": "avQGQrg_BAZQ",
        "outputId": "2ed8c273-51fe-455e-e7ab-e4ad5749b9b1"
      },
      "execution_count": null,
      "outputs": [
        {
          "output_type": "stream",
          "name": "stdout",
          "text": [
            "Enter the phone number (e.g., +254701234567): +254794367355\n",
            "Phone number added to the list: +254794367355\n",
            "Message sent to +254708920190\n",
            "Message sent to +254701999433\n",
            "Message sent to +254713592230\n",
            "Message sent to +254724337299\n",
            "Message sent to +254794367355\n"
          ]
        }
      ]
    },
    {
      "cell_type": "markdown",
      "source": [
        "The following code prompts the user for two numbers."
      ],
      "metadata": {
        "id": "LoyJiwrKCa5g"
      }
    },
    {
      "cell_type": "code",
      "source": [
        "# prompt two numbers\n",
        "import africastalking\n",
        "\n",
        "# Set your app credentials\n",
        "username = \"oursuperduperapp\"\n",
        "api_key = \"6dcede7afc40efb68c567bf36fe307937439b9044c3d3e9fa8135c95dc176bf3\"\n",
        "\n",
        "# Initialize the SDK\n",
        "africastalking.initialize(username, api_key)\n",
        "\n",
        "# Get the SMS service\n",
        "sms = africastalking.SMS\n",
        "\n",
        "# Define the message\n",
        "message = \"\"\"\n",
        "Hello,\n",
        "\n",
        "Reminder:\n",
        "Prenatal and nutrition check-ups are crucial for your well-being and your baby's health. Don't forget to schedule and attend these appointments. Your health is our priority. For any concerns or questions, don't hesitate to reach out.\n",
        "file:///C:/Users/USER/Desktop/Reminder/Reminder%20website%20deighn/index.html\n",
        "Stay well!\n",
        "\"\"\"\n",
        "\n",
        "# Prompt for the first phone number\n",
        "phone_number1 = input(\"Enter the first phone number (e.g., +254701234567): \")\n",
        "if not phone_number1.startswith(\"+\") or not phone_number1[1:].isdigit():\n",
        "    print(\"Invalid phone number format.\")\n",
        "    exit()\n",
        "\n",
        "# Prompt for the second phone number\n",
        "phone_number2 = input(\"Enter the second phone number (e.g., +254701234567): \")\n",
        "if not phone_number2.startswith(\"+\") or not phone_number2[1:].isdigit():\n",
        "    print(\"Invalid phone number format.\")\n",
        "    exit()\n",
        "\n",
        "# List of phone numbers\n",
        "phone_numbers = [phone_number1, phone_number2]\n",
        "\n",
        "# Iterate over phone numbers and send SMS to each number\n",
        "for phone_number in phone_numbers:\n",
        "    try:\n",
        "        response = sms.send(message, [phone_number])\n",
        "        print(\"Message sent to\", phone_number)\n",
        "    except Exception as e:\n",
        "        print(\"Error sending message to\", phone_number, \":\", str(e))\n"
      ],
      "metadata": {
        "id": "eg_q5GSRA9u7"
      },
      "execution_count": null,
      "outputs": []
    },
    {
      "cell_type": "markdown",
      "source": [
        "#**Conclusion:**\n",
        "\n",
        "\n"
      ],
      "metadata": {
        "id": "escvWk4D_94a"
      }
    },
    {
      "cell_type": "markdown",
      "source": [
        "\n",
        "The Prenatal Care Reminder System is a proactive approach to supporting pregnant women throughout their pregnancy journey. By leveraging technology and personalized messaging, this project aims to make a positive impact on maternal and infant health outcomes, ultimately contributing to healthier pregnancies and safer childbirth experiences."
      ],
      "metadata": {
        "id": "lvw1Tevz_21g"
      }
    },
    {
      "cell_type": "code",
      "source": [],
      "metadata": {
        "id": "oMKIAmuS_49O"
      },
      "execution_count": null,
      "outputs": []
    }
  ]
}